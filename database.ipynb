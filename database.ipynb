{
 "cells": [
  {
   "cell_type": "code",
   "execution_count": 20,
   "id": "5b3949fa",
   "metadata": {},
   "outputs": [],
   "source": [
    "import sqlite3 \n",
    "from Employee import Employee"
   ]
  },
  {
   "cell_type": "code",
   "execution_count": 47,
   "id": "ade37ffc",
   "metadata": {},
   "outputs": [
    {
     "ename": "OperationalError",
     "evalue": "table employees already exists",
     "output_type": "error",
     "traceback": [
      "\u001b[1;31m---------------------------------------------------------------------------\u001b[0m",
      "\u001b[1;31mOperationalError\u001b[0m                          Traceback (most recent call last)",
      "Input \u001b[1;32mIn [47]\u001b[0m, in \u001b[0;36m<cell line: 5>\u001b[1;34m()\u001b[0m\n\u001b[0;32m      1\u001b[0m conn \u001b[38;5;241m=\u001b[39m sqlite3\u001b[38;5;241m.\u001b[39mconnect(\u001b[38;5;124m'\u001b[39m\u001b[38;5;124mMydatabase.db\u001b[39m\u001b[38;5;124m'\u001b[39m)\n\u001b[0;32m      2\u001b[0m c \u001b[38;5;241m=\u001b[39m conn\u001b[38;5;241m.\u001b[39mcursor()\n\u001b[1;32m----> 5\u001b[0m \u001b[43mc\u001b[49m\u001b[38;5;241;43m.\u001b[39;49m\u001b[43mexecute\u001b[49m\u001b[43m(\u001b[49m\u001b[38;5;124;43m\"\"\"\u001b[39;49m\u001b[38;5;124;43mCREATE TABLE employees (\u001b[39;49m\n\u001b[0;32m      6\u001b[0m \u001b[38;5;124;43m            first text,\u001b[39;49m\n\u001b[0;32m      7\u001b[0m \u001b[38;5;124;43m            last text,\u001b[39;49m\n\u001b[0;32m      8\u001b[0m \u001b[38;5;124;43m            pay integer\u001b[39;49m\n\u001b[0;32m      9\u001b[0m \u001b[38;5;124;43m            )\u001b[39;49m\u001b[38;5;124;43m\"\"\"\u001b[39;49m\u001b[43m)\u001b[49m\n",
      "\u001b[1;31mOperationalError\u001b[0m: table employees already exists"
     ]
    }
   ],
   "source": [
    "conn = sqlite3.connect('Mydatabase.db')\n",
    "c = conn.cursor()\n",
    "\n",
    "\n",
    "c.execute(\"\"\"CREATE TABLE employees (\n",
    "            first text,\n",
    "            last text,\n",
    "            pay integer\n",
    "            )\"\"\")"
   ]
  },
  {
   "cell_type": "code",
   "execution_count": 52,
   "id": "d214f795",
   "metadata": {},
   "outputs": [],
   "source": [
    "res =c. execute(\"SELECT name FROM sqlite_master WHERE type='table';\")"
   ]
  },
  {
   "cell_type": "code",
   "execution_count": 54,
   "id": "d1d0e7d6",
   "metadata": {},
   "outputs": [
    {
     "data": {
      "text/plain": [
       "[('employees',)]"
      ]
     },
     "execution_count": 54,
     "metadata": {},
     "output_type": "execute_result"
    }
   ],
   "source": [
    "res.fetchall()"
   ]
  },
  {
   "cell_type": "code",
   "execution_count": 43,
   "id": "87e6f561",
   "metadata": {},
   "outputs": [],
   "source": [
    "c.execute(\"\"\"\n",
    "          CREATE TABLE employees\n",
    "          (first_name TEXT,\n",
    "          last_name TEXT\n",
    "          salary INTEGER\n",
    "          )\"\"\")\n",
    "conn.commit()\n",
    "def insert_emp(emp):\n",
    "    with conn:\n",
    "        c.execute(\"INSERT INTO employees VALUES (:first_name, :last_name, :salary)\", \n",
    "                  {'first_name':emp.first_name, 'last_name':emp.last_name, 'salary':emp.salary})\n",
    "\n",
    "#         c.execute(\"INSERT INTO employees VALUES (:first, :last, :pay)\", {'first': emp.first, 'last': emp.last, 'pay': emp.pay})\n",
    "\n",
    "        #     with conn:\n",
    "#         c.execute(\"INSERT INTO employees VALUES (:first_name, :last_name, :salary)\", {'first_name':emp.first_name, 'last_name':emp.last_name, 'salary':emp.salary})\n",
    "\n",
    "# def get_emp_names(last_name):\n",
    "#     c.exceute(\"SELECT * FROM employees WHERE last_name=:last_name\", {'last_name': last_name})\n",
    "#     return c.fetchall()\n",
    "\n",
    "# def raise_salary(emp, salary):\n",
    "#     with conn:\n",
    "#         c.execute('''UPDATE employees SET salary = :salary\n",
    "#                     WHERE first_name = :first_name AND last =: last_name''',\n",
    "#                   {'first_name': emp.first_name, 'last_name': emp.last_name, 'salary': salary})\n",
    "\n",
    "# def remove_emp(emp):\n",
    "#     with conn:\n",
    "#         c.exceute(\"DELETE from emloyees WHERE first_name = :first_name AND last_name =:last_name\",\n",
    "#                   {'first_name':emp.first_name, 'last_name':emp.last_name})       "
   ]
  },
  {
   "cell_type": "code",
   "execution_count": 44,
   "id": "908c6236",
   "metadata": {},
   "outputs": [],
   "source": [
    "emp_1 = Employee(\"Rahul\", \"Chavan\", 10000)\n",
    "emp_2 = Employee(\"Mahesh\", \"Pawar\", 15000)\n",
    "emp_3 = Employee(\"Suresh\", \"Chavan\", 20000)"
   ]
  },
  {
   "cell_type": "code",
   "execution_count": 46,
   "id": "a6549ff8",
   "metadata": {},
   "outputs": [
    {
     "ename": "OperationalError",
     "evalue": "no such column: emp_1.first_name",
     "output_type": "error",
     "traceback": [
      "\u001b[1;31m---------------------------------------------------------------------------\u001b[0m",
      "\u001b[1;31mOperationalError\u001b[0m                          Traceback (most recent call last)",
      "Input \u001b[1;32mIn [46]\u001b[0m, in \u001b[0;36m<cell line: 1>\u001b[1;34m()\u001b[0m\n\u001b[1;32m----> 1\u001b[0m \u001b[43mc\u001b[49m\u001b[38;5;241;43m.\u001b[39;49m\u001b[43mexecute\u001b[49m\u001b[43m(\u001b[49m\u001b[38;5;124;43m\"\u001b[39;49m\u001b[38;5;124;43mINSERT INTO employees VALUES (emp_1.first_name, emp_1.last_name, emp_1.salary)\u001b[39;49m\u001b[38;5;124;43m\"\u001b[39;49m\u001b[43m)\u001b[49m\n",
      "\u001b[1;31mOperationalError\u001b[0m: no such column: emp_1.first_name"
     ]
    }
   ],
   "source": [
    "c.execute(\"INSERT INTO employees VALUES (emp_1.first_name, emp_1.last_name, emp_1.salary)\")"
   ]
  },
  {
   "cell_type": "code",
   "execution_count": 35,
   "id": "70f60755",
   "metadata": {},
   "outputs": [
    {
     "data": {
      "text/plain": [
       "'Rahul'"
      ]
     },
     "execution_count": 35,
     "metadata": {},
     "output_type": "execute_result"
    }
   ],
   "source": [
    "emp_1.first_name"
   ]
  },
  {
   "cell_type": "code",
   "execution_count": 45,
   "id": "ce66757c",
   "metadata": {},
   "outputs": [
    {
     "ename": "OperationalError",
     "evalue": "table employees has 1 columns but 3 values were supplied",
     "output_type": "error",
     "traceback": [
      "\u001b[1;31m---------------------------------------------------------------------------\u001b[0m",
      "\u001b[1;31mOperationalError\u001b[0m                          Traceback (most recent call last)",
      "Input \u001b[1;32mIn [45]\u001b[0m, in \u001b[0;36m<cell line: 1>\u001b[1;34m()\u001b[0m\n\u001b[1;32m----> 1\u001b[0m \u001b[43minsert_emp\u001b[49m\u001b[43m(\u001b[49m\u001b[43memp_1\u001b[49m\u001b[43m)\u001b[49m\n",
      "Input \u001b[1;32mIn [43]\u001b[0m, in \u001b[0;36minsert_emp\u001b[1;34m(emp)\u001b[0m\n\u001b[0;32m      8\u001b[0m \u001b[38;5;28;01mdef\u001b[39;00m \u001b[38;5;21minsert_emp\u001b[39m(emp):\n\u001b[0;32m      9\u001b[0m     \u001b[38;5;28;01mwith\u001b[39;00m conn:\n\u001b[1;32m---> 10\u001b[0m         \u001b[43mc\u001b[49m\u001b[38;5;241;43m.\u001b[39;49m\u001b[43mexecute\u001b[49m\u001b[43m(\u001b[49m\u001b[38;5;124;43m\"\u001b[39;49m\u001b[38;5;124;43mINSERT INTO employees VALUES (:first_name, :last_name, :salary)\u001b[39;49m\u001b[38;5;124;43m\"\u001b[39;49m\u001b[43m,\u001b[49m\u001b[43m \u001b[49m\n\u001b[0;32m     11\u001b[0m \u001b[43m                  \u001b[49m\u001b[43m{\u001b[49m\u001b[38;5;124;43m'\u001b[39;49m\u001b[38;5;124;43mfirst_name\u001b[39;49m\u001b[38;5;124;43m'\u001b[39;49m\u001b[43m:\u001b[49m\u001b[43memp\u001b[49m\u001b[38;5;241;43m.\u001b[39;49m\u001b[43mfirst_name\u001b[49m\u001b[43m,\u001b[49m\u001b[43m \u001b[49m\u001b[38;5;124;43m'\u001b[39;49m\u001b[38;5;124;43mlast_name\u001b[39;49m\u001b[38;5;124;43m'\u001b[39;49m\u001b[43m:\u001b[49m\u001b[43memp\u001b[49m\u001b[38;5;241;43m.\u001b[39;49m\u001b[43mlast_name\u001b[49m\u001b[43m,\u001b[49m\u001b[43m \u001b[49m\u001b[38;5;124;43m'\u001b[39;49m\u001b[38;5;124;43msalary\u001b[39;49m\u001b[38;5;124;43m'\u001b[39;49m\u001b[43m:\u001b[49m\u001b[43memp\u001b[49m\u001b[38;5;241;43m.\u001b[39;49m\u001b[43msalary\u001b[49m\u001b[43m}\u001b[49m\u001b[43m)\u001b[49m\n",
      "\u001b[1;31mOperationalError\u001b[0m: table employees has 1 columns but 3 values were supplied"
     ]
    }
   ],
   "source": [
    "insert_emp(emp_1)"
   ]
  },
  {
   "cell_type": "code",
   "execution_count": 30,
   "id": "272a76fb",
   "metadata": {},
   "outputs": [
    {
     "ename": "OperationalError",
     "evalue": "table employees has 1 columns but 3 values were supplied",
     "output_type": "error",
     "traceback": [
      "\u001b[1;31m---------------------------------------------------------------------------\u001b[0m",
      "\u001b[1;31mOperationalError\u001b[0m                          Traceback (most recent call last)",
      "Input \u001b[1;32mIn [30]\u001b[0m, in \u001b[0;36m<cell line: 5>\u001b[1;34m()\u001b[0m\n\u001b[0;32m      2\u001b[0m emp_2 \u001b[38;5;241m=\u001b[39m Employee(\u001b[38;5;124m\"\u001b[39m\u001b[38;5;124mMahesh\u001b[39m\u001b[38;5;124m\"\u001b[39m, \u001b[38;5;124m\"\u001b[39m\u001b[38;5;124mPawar\u001b[39m\u001b[38;5;124m\"\u001b[39m, \u001b[38;5;241m15000\u001b[39m)\n\u001b[0;32m      3\u001b[0m emp_3 \u001b[38;5;241m=\u001b[39m Employee(\u001b[38;5;124m\"\u001b[39m\u001b[38;5;124mSuresh\u001b[39m\u001b[38;5;124m\"\u001b[39m, \u001b[38;5;124m\"\u001b[39m\u001b[38;5;124mChavan\u001b[39m\u001b[38;5;124m\"\u001b[39m, \u001b[38;5;241m20000\u001b[39m)\n\u001b[1;32m----> 5\u001b[0m \u001b[43minsert_emp\u001b[49m\u001b[43m(\u001b[49m\u001b[43memp_1\u001b[49m\u001b[43m)\u001b[49m\n\u001b[0;32m      6\u001b[0m insert_emp(emp_2)\n\u001b[0;32m      7\u001b[0m insert_emp(emp_3)\n",
      "Input \u001b[1;32mIn [29]\u001b[0m, in \u001b[0;36minsert_emp\u001b[1;34m(emp)\u001b[0m\n\u001b[0;32m      7\u001b[0m \u001b[38;5;28;01mdef\u001b[39;00m \u001b[38;5;21minsert_emp\u001b[39m(emp):\n\u001b[0;32m      8\u001b[0m     \u001b[38;5;28;01mwith\u001b[39;00m conn:\n\u001b[1;32m----> 9\u001b[0m         \u001b[43mc\u001b[49m\u001b[38;5;241;43m.\u001b[39;49m\u001b[43mexecute\u001b[49m\u001b[43m(\u001b[49m\u001b[38;5;124;43m\"\u001b[39;49m\u001b[38;5;124;43mINSERT INTO employees VALUES (:first_name, :last_name, :salary)\u001b[39;49m\u001b[38;5;124;43m\"\u001b[39;49m\u001b[43m,\u001b[49m\u001b[43m \u001b[49m\u001b[43m{\u001b[49m\u001b[38;5;124;43m'\u001b[39;49m\u001b[38;5;124;43mfirst_name\u001b[39;49m\u001b[38;5;124;43m'\u001b[39;49m\u001b[43m:\u001b[49m\u001b[43memp\u001b[49m\u001b[38;5;241;43m.\u001b[39;49m\u001b[43mfirst_name\u001b[49m\u001b[43m,\u001b[49m\u001b[43m \u001b[49m\u001b[38;5;124;43m'\u001b[39;49m\u001b[38;5;124;43mlast_name\u001b[39;49m\u001b[38;5;124;43m'\u001b[39;49m\u001b[43m:\u001b[49m\u001b[43memp\u001b[49m\u001b[38;5;241;43m.\u001b[39;49m\u001b[43mlast_name\u001b[49m\u001b[43m,\u001b[49m\u001b[43m \u001b[49m\u001b[38;5;124;43m'\u001b[39;49m\u001b[38;5;124;43msalary\u001b[39;49m\u001b[38;5;124;43m'\u001b[39;49m\u001b[43m:\u001b[49m\u001b[43memp\u001b[49m\u001b[38;5;241;43m.\u001b[39;49m\u001b[43msalary\u001b[49m\u001b[43m}\u001b[49m\u001b[43m)\u001b[49m\n",
      "\u001b[1;31mOperationalError\u001b[0m: table employees has 1 columns but 3 values were supplied"
     ]
    }
   ],
   "source": [
    "\n",
    "\n",
    "insert_emp(emp_1)\n",
    "insert_emp(emp_2)\n",
    "insert_emp(emp_3)\n",
    "\n",
    "emps = get_emp_names(\"Chavan\")\n",
    "print(emps)\n",
    "\n",
    "raise_salary(emp_2, 18000)\n",
    "remove_emp(emp_1)\n",
    "\n"
   ]
  },
  {
   "cell_type": "code",
   "execution_count": null,
   "id": "39572ca8",
   "metadata": {},
   "outputs": [],
   "source": []
  }
 ],
 "metadata": {
  "kernelspec": {
   "display_name": "Python 3 (ipykernel)",
   "language": "python",
   "name": "python3"
  },
  "language_info": {
   "codemirror_mode": {
    "name": "ipython",
    "version": 3
   },
   "file_extension": ".py",
   "mimetype": "text/x-python",
   "name": "python",
   "nbconvert_exporter": "python",
   "pygments_lexer": "ipython3",
   "version": "3.10.4"
  }
 },
 "nbformat": 4,
 "nbformat_minor": 5
}
